{
  "nbformat": 4,
  "nbformat_minor": 0,
  "metadata": {
    "colab": {
      "name": "AV_BM_CL.ipynb",
      "provenance": [],
      "collapsed_sections": []
    },
    "kernelspec": {
      "name": "python3",
      "display_name": "Python 3"
    }
  },
  "cells": [
    {
      "cell_type": "markdown",
      "metadata": {
        "id": "PhjjXctO0Pev",
        "colab_type": "text"
      },
      "source": [
        "# **Agriculture Vision (Image Anomaly Classification) - Base Model**"
      ]
    },
    {
      "cell_type": "markdown",
      "metadata": {
        "id": "_rbS8gDWVlTv",
        "colab_type": "text"
      },
      "source": [
        "\n",
        "\n",
        "#**1.   Download Dataset**\n",
        "\n",
        "\n",
        "---\n",
        "\n",
        "\n"
      ]
    },
    {
      "cell_type": "code",
      "metadata": {
        "id": "atzGy-lGFJ-P",
        "colab_type": "code",
        "colab": {}
      },
      "source": [
        "# Download the Dataset from Google Drive\n",
        "!wget --load-cookies /tmp/cookies.txt \"https://docs.google.com/uc?export=download&confirm=$(wget --quiet --save-cookies /tmp/cookies.txt --keep-session-cookies --no-check-certificate 'https://docs.google.com/uc?export=download&id=1CLaSc58acJOILjBpUemNvy-6WXCd3llz' -O- | sed -rn 's/.*confirm=([0-9A-Za-z_]+).*/\\1\\n/p')&id=1CLaSc58acJOILjBpUemNvy-6WXCd3llz\" -O \"Agri-vision.zip\" && rm -rf /tmp/cookies.txt"
      ],
      "execution_count": 0,
      "outputs": []
    },
    {
      "cell_type": "markdown",
      "metadata": {
        "id": "lzA5WIYEVwII",
        "colab_type": "text"
      },
      "source": [
        "\n",
        "\n",
        "#**2.   Unzip the Dataset**\n",
        "\n",
        "\n",
        "\n",
        "---\n",
        "\n"
      ]
    },
    {
      "cell_type": "code",
      "metadata": {
        "id": "UlxXz2c2IOW-",
        "colab_type": "code",
        "colab": {}
      },
      "source": [
        "# Unzip the Dataset\n",
        "!unzip Agri-vision.zip"
      ],
      "execution_count": 0,
      "outputs": []
    },
    {
      "cell_type": "markdown",
      "metadata": {
        "id": "srxIMt6vWAAf",
        "colab_type": "text"
      },
      "source": [
        "\n",
        "\n",
        "#**3.   Import Libraries**\n",
        "\n",
        "\n",
        "---\n",
        "\n",
        "\n"
      ]
    },
    {
      "cell_type": "code",
      "metadata": {
        "id": "s01RQlJev02Z",
        "colab_type": "code",
        "outputId": "dd3e3adc-cbb8-4a41-db21-8545078c050d",
        "colab": {
          "base_uri": "https://localhost:8080/",
          "height": 51
        }
      },
      "source": [
        "# Import all the required Libraries\n",
        "\n",
        "# Load the TensorBoard notebook extension\n",
        "%load_ext tensorboard\n",
        "\n",
        "from google.colab import files\n",
        "from google.colab import drive\n",
        "from PIL import Image\n",
        "from IPython.display import display\n",
        "from numpy import asarray\n",
        "from sklearn.preprocessing import OneHotEncoder\n",
        "import matplotlib.pyplot as plt\n",
        "import numpy as np\n",
        "import os\n",
        "import datetime\n",
        "import shutil\n",
        "import math\n",
        "import cv2\n",
        "import tensorflow as tf\n",
        "from tensorflow.keras.models import Sequential\n",
        "from tensorflow.keras.layers import Conv2D, MaxPooling2D, Flatten, Dense, Dropout\n",
        "from tensorflow.keras.preprocessing.image import ImageDataGenerator\n",
        "from tensorflow.keras.callbacks import TensorBoard\n",
        "from tensorflow.keras.callbacks import EarlyStopping\n",
        "from tensorflow.keras import regularizers\n",
        "from tensorflow.keras.preprocessing import image\n",
        "from tensorflow.keras.models import load_model"
      ],
      "execution_count": 0,
      "outputs": [
        {
          "output_type": "stream",
          "text": [
            "The tensorboard extension is already loaded. To reload it, use:\n",
            "  %reload_ext tensorboard\n"
          ],
          "name": "stdout"
        }
      ]
    },
    {
      "cell_type": "markdown",
      "metadata": {
        "id": "GLxR7p6jWeEK",
        "colab_type": "text"
      },
      "source": [
        "\n",
        "\n",
        "#**4.   Define Label Dictionary**\n",
        "\n",
        "\n",
        "\n",
        "---\n",
        "\n"
      ]
    },
    {
      "cell_type": "code",
      "metadata": {
        "id": "bBDrDwjUv02f",
        "colab_type": "code",
        "colab": {}
      },
      "source": [
        "# The Dictionary is just for reference, to view how the labels are represented\n",
        "ref = {1:'cloud_shadow',\n",
        "       2:'double_plant',\n",
        "       3:'planter_skip',\n",
        "       4:'standing_water',\n",
        "       5:'waterway',\n",
        "       6:'weed_cluster'\n",
        "      }"
      ],
      "execution_count": 0,
      "outputs": []
    },
    {
      "cell_type": "markdown",
      "metadata": {
        "id": "i45ONyCQWur8",
        "colab_type": "text"
      },
      "source": [
        "\n",
        "\n",
        "#**5.   References to all required directories**\n",
        "\n",
        "\n",
        "\n",
        "---\n",
        "\n"
      ]
    },
    {
      "cell_type": "code",
      "metadata": {
        "id": "a1f_-yc9v02j",
        "colab_type": "code",
        "colab": {}
      },
      "source": [
        "# References to all required directories\n",
        "\n",
        "root='/content'\n",
        "\n",
        "# Training\n",
        "train_images_dir = os.path.join(root,'Agriculture-Vision/train/images/')\n",
        "train_label_cloud_shadow_dir = os.path.join(root,'Agriculture-Vision/train/labels/cloud_shadow/')\n",
        "train_label_double_plant_dir = os.path.join(root,'Agriculture-Vision/train/labels/double_plant/')\n",
        "train_label_planter_skip_dir = os.path.join(root,'Agriculture-Vision/train/labels/planter_skip/')\n",
        "train_label_standing_water_dir = os.path.join(root,'Agriculture-Vision/train/labels/standing_water/')\n",
        "train_label_water_way_dir = os.path.join(root,'Agriculture-Vision/train/labels/waterway/')\n",
        "train_label_weed_cluster_dir = os.path.join(root,'Agriculture-Vision/train/labels/weed_cluster/')\n",
        "train_image_rgb_dir = os.path.join(root,'Agriculture-Vision/train/images/rgb/')\n",
        "train_image_nir_dir= os.path.join(root,'Agriculture-Vision/train/images/nir/')\n",
        "train_boundaries_dir= os.path.join(root,'Agriculture-Vision/train/boundaries/')\n",
        "train_mask_dir= os.path.join(root,'Agriculture-Vision/train/masks/')\n",
        "train_labels_dirs_list = [train_label_cloud_shadow_dir,train_label_double_plant_dir,\n",
        "                          train_label_planter_skip_dir,train_label_standing_water_dir,\n",
        "                          train_label_water_way_dir,train_label_weed_cluster_dir]\n",
        "\n",
        "# Validation\n",
        "val_images_dir = os.path.join(root,'Agriculture-Vision/val/images/')\n",
        "val_label_cloud_shadow_dir = os.path.join(root,'Agriculture-Vision/val/labels/cloud_shadow/')\n",
        "val_label_double_plant_dir = os.path.join(root,'Agriculture-Vision/val/labels/double_plant/')\n",
        "val_label_planter_skip_dir = os.path.join(root,'Agriculture-Vision/val/labels/planter_skip/')\n",
        "val_label_standing_water_dir = os.path.join(root,'Agriculture-Vision/val/labels/standing_water/')\n",
        "val_label_water_way_dir = os.path.join(root,'Agriculture-Vision/val/labels/waterway/')\n",
        "val_label_weed_cluster_dir = os.path.join(root,'Agriculture-Vision/val/labels/weed_cluster/')\n",
        "val_image_rgb_dir = os.path.join(root,'Agriculture-Vision/val/images/rgb/')\n",
        "val_image_nir_dir= os.path.join(root,'Agriculture-Vision/val/images/nir/')\n",
        "val_boundaries_dir= os.path.join(root,'Agriculture-Vision/val/boundaries/')\n",
        "val_mask_dir= os.path.join(root,'Agriculture-Vision/val/masks/')\n",
        "val_labels_dirs_list = [val_label_cloud_shadow_dir,val_label_double_plant_dir,\n",
        "                        val_label_planter_skip_dir, val_label_standing_water_dir,\n",
        "                        val_label_water_way_dir,val_label_weed_cluster_dir]\n",
        "\n",
        "# Testing\n",
        "test_images_dir = os.path.join(root,'Agriculture-Vision/test/images/')\n",
        "test_image_rgb_dir = os.path.join(root,'Agriculture-Vision/test/images/rgb/')\n",
        "test_image_nir_dir= os.path.join(root,'Agriculture-Vision/test/images/nir/')\n",
        "test_boundaries_dir= os.path.join(root,'Agriculture-Vision/test/boundaries/')\n",
        "test_mask_dir= os.path.join(root,'Agriculture-Vision/test/masks/')\n",
        "\n",
        "# For future global reference\n",
        "train_list_label_file_names=[]\n",
        "train_label_list=[]\n",
        "val_list_label_file_names=[] \n",
        "val_label_list=[]\n",
        "test_file_names=[]\n",
        "model_ip_type=[]\n",
        "log_folder=[]"
      ],
      "execution_count": 0,
      "outputs": []
    },
    {
      "cell_type": "markdown",
      "metadata": {
        "id": "JPzCvD-DXO-r",
        "colab_type": "text"
      },
      "source": [
        "\n",
        "\n",
        "#**6.   Number of Input Images**\n",
        "\n",
        "\n",
        "\n",
        "---\n",
        "\n"
      ]
    },
    {
      "cell_type": "code",
      "metadata": {
        "id": "3D6zOTGCxUK-",
        "colab_type": "code",
        "outputId": "1c3e45b7-f073-4f18-9de0-a800fa709d9e",
        "colab": {
          "base_uri": "https://localhost:8080/",
          "height": 34
        }
      },
      "source": [
        "print(len(os.listdir(train_label_cloud_shadow_dir)))"
      ],
      "execution_count": 0,
      "outputs": [
        {
          "output_type": "stream",
          "text": [
            "12901\n"
          ],
          "name": "stdout"
        }
      ]
    },
    {
      "cell_type": "markdown",
      "metadata": {
        "id": "m81RhdPrXeht",
        "colab_type": "text"
      },
      "source": [
        "#**7.   Function - Label Creation**\n",
        "\n",
        "\n",
        "\n",
        "---"
      ]
    },
    {
      "cell_type": "code",
      "metadata": {
        "id": "Eo15LbSkv02o",
        "colab_type": "code",
        "colab": {}
      },
      "source": [
        "# Label Creation\n",
        "def CreateLabels(list_label_dirs):\n",
        "  name= ' Training' if 'train' in list_label_dirs[0] else ' Validation'\n",
        "  list_of_label_file_names = os.listdir(list_label_dirs[0])\n",
        "  label_list=[]\n",
        "  for i in list_of_label_file_names:\n",
        "\n",
        "    # load the image\n",
        "    cloud_shadow_image = Image.open(list_label_dirs[0]+i)\n",
        "    double_plant_image = Image.open(list_label_dirs[1]+i)\n",
        "    planter_skip_image = Image.open(list_label_dirs[2]+i)\n",
        "    standing_water_image = Image.open(list_label_dirs[3]+i)\n",
        "    water_way_image = Image.open(list_label_dirs[4]+i)\n",
        "    weed_cluster_image = Image.open(list_label_dirs[5]+i)\n",
        "\n",
        "    # convert image to numpy array\n",
        "    cloud_shadow_imagedata = asarray(cloud_shadow_image)\n",
        "    double_plant_imagedata = asarray(double_plant_image)\n",
        "    planter_skip_imagedata = asarray(planter_skip_image)\n",
        "    standing_water_imagedata = asarray(standing_water_image)\n",
        "    water_way_imagedata = asarray(water_way_image)\n",
        "    weed_cluster_imagedata = asarray(weed_cluster_image)\n",
        "\n",
        "    #sum of numpy array\n",
        "    csid = sum(sum(abs(cloud_shadow_imagedata)))\n",
        "    dpid = sum(sum(abs(double_plant_imagedata)))\n",
        "    psid = sum(sum(abs(planter_skip_imagedata)))\n",
        "    swid = sum(sum(abs(standing_water_imagedata)))\n",
        "    wwid = sum(sum(abs(water_way_imagedata)))\n",
        "    wcid = sum(sum(abs(weed_cluster_imagedata)))\n",
        "\n",
        "    labels = {1:csid, 2:dpid, 3:psid, 4:swid, 5:wwid, 6:wcid}\n",
        "    label = max(labels, key=labels.get)\n",
        "    #label_list.append((i.replace('.png',''),label))\n",
        "    label_list.append(label)\n",
        "  print('Generated '+str(len(label_list))+name+' Labels!')\n",
        "  print(CreateLabels.__name__,' Executed!\\n')\n",
        "  return list_of_label_file_names, label_list\n"
      ],
      "execution_count": 0,
      "outputs": []
    },
    {
      "cell_type": "markdown",
      "metadata": {
        "id": "fKr8yowaX05z",
        "colab_type": "text"
      },
      "source": [
        "#**8.   Function - Create Directories for Masked Images**\n",
        "\n",
        "\n",
        "\n",
        "---"
      ]
    },
    {
      "cell_type": "code",
      "metadata": {
        "id": "Ne_oKrouv02v",
        "colab_type": "code",
        "colab": {}
      },
      "source": [
        "# Create directories for masked images\n",
        "def CreateMaskImgDirs(dir, length):\n",
        "  name='' \n",
        "  if 'train' in dir:\n",
        "    name='Training'\n",
        "  elif 'val' in dir:\n",
        "    name='Validation'\n",
        "  else: name='Testing'\n",
        "  typeim = 'NIR' if 'nir' in dir else 'RGB'\n",
        "  os.mkdir(dir)\n",
        "  if name!='Testing':\n",
        "    for i in range(1,length+1):\n",
        "        os.mkdir(os.path.join(dir,str(i)))\n",
        "  print('Generated '+name+' Masked '+typeim+' Image Directory!')\n",
        "  print(CreateMaskImgDirs.__name__,' Executed!\\n')"
      ],
      "execution_count": 0,
      "outputs": []
    },
    {
      "cell_type": "markdown",
      "metadata": {
        "id": "XCHX25f-YKBf",
        "colab_type": "text"
      },
      "source": [
        "#**9.   Function - Generate Masked Images and Store them in Directory**\n",
        "\n",
        "\n",
        "\n",
        "---"
      ]
    },
    {
      "cell_type": "code",
      "metadata": {
        "id": "BiQxAhBPv023",
        "colab_type": "code",
        "colab": {}
      },
      "source": [
        "# Generate masked images and store them in directory\n",
        "def MaskImages(dest_dir, label_list, list_of_labels,input_dir,mask_dir,boundaries_dir):\n",
        "  name='' \n",
        "  if 'train' in dest_dir:\n",
        "    name='Training'\n",
        "  elif 'val' in dest_dir:\n",
        "    name='Validation'\n",
        "  else: name='Testing'\n",
        "  typeim = 'NIR' if 'nir' in dest_dir else 'RGB'\n",
        "  for i,image_name in enumerate(list_of_labels):\n",
        "      if name!='Testing': image_name = image_name.replace('.png','')\n",
        "      else: image_name = image_name.replace('.jpg','')\n",
        "      image=Image.open(os.path.join(input_dir,image_name)+'.jpg')\n",
        "      mask_m=Image.open(os.path.join(mask_dir,image_name)+'.png')\n",
        "      mask_b=Image.open(os.path.join(boundaries_dir,image_name)+'.png')\n",
        "      image=cv2.bitwise_and(np.array(image),np.array(image),mask=np.array(mask_m))\n",
        "      image=cv2.bitwise_and(np.array(image),np.array(image),mask=np.array(mask_b))\n",
        "      image_path=''\n",
        "      try:\n",
        "        if name!='Testing':\n",
        "          image_path=dest_dir+\"/\"+str(label_list[i])+\"/\"+image_name+\".jpg\"\n",
        "        else: image_path=dest_dir+\"/\"+image_name+\".jpg\"\n",
        "      except Exception as e:\n",
        "        print(e)\n",
        "      try:\n",
        "       cv2.imwrite(image_path,image)\n",
        "      except Exception as e:\n",
        "        print(e)\n",
        "  print('Generated '+str(len(list_of_labels))+' '+name+' Masked '+typeim+' Images!')\n",
        "  print(MaskImages.__name__,' Executed!\\n')"
      ],
      "execution_count": 0,
      "outputs": []
    },
    {
      "cell_type": "markdown",
      "metadata": {
        "id": "FNi4rWUjYXjf",
        "colab_type": "text"
      },
      "source": [
        "#**10.   Function - Image Preprocessing - Call to Sub Functions**\n",
        "\n",
        "> Indented block\n",
        "\n",
        "> Indented block\n",
        "\n",
        "\n",
        "\n",
        "\n",
        "\n",
        "\n",
        "\n",
        "---"
      ]
    },
    {
      "cell_type": "code",
      "metadata": {
        "id": "GWwm9pDTySl_",
        "colab_type": "code",
        "colab": {}
      },
      "source": [
        "def DataPreprocessing():\n",
        "\n",
        "  if (not train_list_label_file_names) and (not train_label_list):\n",
        "    train_fn_lb= CreateLabels(train_labels_dirs_list)\n",
        "    train_list_label_file_names.extend(train_fn_lb[0])\n",
        "    train_label_list.extend(train_fn_lb[1])\n",
        "\n",
        "  if (not val_list_label_file_names) and (not val_label_list):\n",
        "    val_fn_lb= CreateLabels(val_labels_dirs_list)\n",
        "    val_list_label_file_names.extend(val_fn_lb[0])\n",
        "    val_label_list.extend(val_fn_lb[1])\n",
        "    \n",
        "  # Training/Validation Masked NIR Images/Directories\n",
        "  path_train_nir = os.path.join(train_images_dir,'masked_images_nir')\n",
        "  path_val_nir = os.path.join(val_images_dir,'masked_images_nir')\n",
        "  if not os.path.isdir(path_train_nir):\n",
        "    CreateMaskImgDirs(path_train_nir,len(train_labels_dirs_list))\n",
        "    MaskImages(path_train_nir, train_label_list, train_list_label_file_names, train_image_nir_dir, \n",
        "            train_mask_dir, train_boundaries_dir)\n",
        "  if not os.path.isdir(path_val_nir):\n",
        "    CreateMaskImgDirs(path_val_nir,len(val_labels_dirs_list))\n",
        "    MaskImages(path_val_nir, val_label_list, val_list_label_file_names, val_image_nir_dir, \n",
        "              val_mask_dir, val_boundaries_dir)\n",
        "\n",
        "  # Training/Validation Masked RGB Images/Directories\n",
        "  path_train_rgb = os.path.join(train_images_dir,'masked_images_rgb')\n",
        "  path_val_rgb = os.path.join(val_images_dir,'masked_images_rgb')\n",
        "  if not os.path.isdir(path_train_rgb):\n",
        "    CreateMaskImgDirs(path_train_rgb,len(train_labels_dirs_list))\n",
        "    MaskImages(path_train_rgb, train_label_list, train_list_label_file_names, train_image_rgb_dir, \n",
        "            train_mask_dir, train_boundaries_dir)\n",
        "  if not os.path.isdir(path_val_rgb):\n",
        "    CreateMaskImgDirs(path_val_rgb,len(val_labels_dirs_list))\n",
        "    MaskImages(path_val_rgb, val_label_list, val_list_label_file_names, val_image_rgb_dir, \n",
        "              val_mask_dir, val_boundaries_dir)\n",
        "    \n",
        "  # Testing Masked NIR Images/Directories\n",
        "  path_test_nir = os.path.join(test_images_dir,'masked_images_nir')\n",
        "  if not test_file_names:\n",
        "    test_file_names.extend(os.listdir(test_image_nir_dir))\n",
        "  if not os.path.isdir(path_test_nir) :\n",
        "    CreateMaskImgDirs(path_test_nir,len(train_labels_dirs_list))\n",
        "    MaskImages(path_test_nir, train_label_list, test_file_names, test_image_nir_dir, \n",
        "            test_mask_dir, test_boundaries_dir)\n",
        "    \n",
        "  # Testing Masked RGB Images/Directories\n",
        "  path_test_rgb = os.path.join(test_images_dir,'masked_images_rgb')\n",
        "  if not os.path.isdir(path_test_rgb):\n",
        "    CreateMaskImgDirs(path_test_rgb,len(train_labels_dirs_list))\n",
        "    MaskImages(path_test_rgb, train_label_list, test_file_names, test_image_rgb_dir, \n",
        "            test_mask_dir, test_boundaries_dir)\n",
        "    \n",
        "  return path_train_nir, path_val_nir, path_train_rgb, path_val_rgb, path_test_nir, path_test_rgb\n"
      ],
      "execution_count": 0,
      "outputs": []
    },
    {
      "cell_type": "markdown",
      "metadata": {
        "id": "f8znAt9UYoJO",
        "colab_type": "text"
      },
      "source": [
        "#**11.   Function - Image Data Genrator**\n",
        "\n",
        "\n",
        "\n",
        "---"
      ]
    },
    {
      "cell_type": "code",
      "metadata": {
        "id": "_BHfPoznv027",
        "colab_type": "code",
        "colab": {}
      },
      "source": [
        "# Image Data Genrator\n",
        "def ImageDataGenProcess(training_directory, validation_directory, cmode, batch_size, height, width):\n",
        "  training_data_generator = ImageDataGenerator(rescale=1./255)\n",
        "  train_generator = training_data_generator.flow_from_directory(training_directory,\n",
        "                                                                color_mode=cmode,\n",
        "                                                                batch_size=batch_size,\n",
        "                                                                target_size=(height,width))\n",
        "\n",
        "  val_data_generator = ImageDataGenerator(rescale=1./255)\n",
        "  val_generator = val_data_generator.flow_from_directory(validation_directory,\n",
        "                                                         color_mode=cmode,\n",
        "                                                         batch_size=batch_size,\n",
        "                                                         target_size=(height,width))\n",
        "  print(ImageDataGenProcess.__name__,' Executed!\\n')\n",
        "  return train_generator, val_generator"
      ],
      "execution_count": 0,
      "outputs": []
    },
    {
      "cell_type": "markdown",
      "metadata": {
        "id": "0azOED9vY4Az",
        "colab_type": "text"
      },
      "source": [
        "#**12.   Function - Base Model**\n",
        "\n",
        "\n",
        "\n",
        "---"
      ]
    },
    {
      "cell_type": "code",
      "metadata": {
        "id": "UVNhJi2wv03A",
        "colab_type": "code",
        "colab": {}
      },
      "source": [
        "# Model\n",
        "def BaseModelDefinition(height, width, channel):\n",
        "  model=Sequential()\n",
        "  model.add(Conv2D(64,(3,3),activation='relu',input_shape=(height, width, channel)))\n",
        "  model.add(MaxPooling2D((2,2)))\n",
        "  model.add(Conv2D(64,(3,3),activation='relu'))\n",
        "  model.add(MaxPooling2D((2,2)))\n",
        "  model.add(Flatten())\n",
        "  model.add(Dense(512,activation='relu', activity_regularizer=regularizers.l2(0.001)))\n",
        "  model.add(Dense(256,activation='tanh'))\n",
        "  model.add(Dense(6,activation='softmax'))\n",
        "\n",
        "  model.summary()\n",
        "\n",
        "  print(BaseModelDefinition.__name__,' Executed!\\n')\n",
        "  return model"
      ],
      "execution_count": 0,
      "outputs": []
    },
    {
      "cell_type": "markdown",
      "metadata": {
        "id": "EkdEZoY9ZVVP",
        "colab_type": "text"
      },
      "source": [
        "#**13.   Function - Compile Fit**\n",
        "\n",
        "\n",
        "\n",
        "---"
      ]
    },
    {
      "cell_type": "code",
      "metadata": {
        "id": "ALEPOyLov03E",
        "colab_type": "code",
        "colab": {}
      },
      "source": [
        "# Fit the model and complie the model\n",
        "def CompileFit(model, train_generator, val_generator, batch_size, num_train_samples, num_val_samples):\n",
        "  \t# patient early stopping\n",
        "  es = EarlyStopping(monitor='val_loss', mode='min', verbose=1, patience=10)\n",
        "  \n",
        "  model.compile(loss='categorical_crossentropy',\n",
        "                optimizer=tf.keras.optimizers.Adamax(learning_rate=0.0001, beta_1=0.9, beta_2=0.999),\n",
        "                metrics=['accuracy'])\n",
        "  if log_folder:\n",
        "    log_folder.pop()\n",
        "    log_folder.append(model_ip_type[0] + \"_logs\")\n",
        "  else:\n",
        "    log_folder.append(model_ip_type[0] + \"_logs\")\n",
        "  logdir = os.path.join(root,log_folder[0], datetime.datetime.now().strftime(\"%Y%m%d-%H%M%S\"))\n",
        "  tensorboard_callback = TensorBoard(logdir, \n",
        "                           histogram_freq=1, \n",
        "                           batch_size=batch_size, \n",
        "                           write_graph=True, \n",
        "                           write_grads=True, \n",
        "                           write_images=True, \n",
        "                           update_freq='epoch')\n",
        "  \n",
        "  model.fit_generator(train_generator,\n",
        "                      steps_per_epoch=math.ceil(num_train_samples / batch_size),\n",
        "                      epochs=75,\n",
        "                      validation_data=val_generator,\n",
        "                      validation_steps=math.ceil(num_val_samples / batch_size),\n",
        "                      callbacks=[tensorboard_callback, es])\n",
        "  \n",
        "  print(CompileFit.__name__,' Executed!\\n')\n",
        "  return model"
      ],
      "execution_count": 0,
      "outputs": []
    },
    {
      "cell_type": "markdown",
      "metadata": {
        "id": "oaRQLcvYZfWg",
        "colab_type": "text"
      },
      "source": [
        "#**14.   Function - Plot Model Performance**\n",
        "\n",
        "\n",
        "\n",
        "---"
      ]
    },
    {
      "cell_type": "code",
      "metadata": {
        "id": "ZRk5V695v03S",
        "colab_type": "code",
        "colab": {}
      },
      "source": [
        "# Plot the model performace\n",
        "def PlotPerformance(model):\n",
        "\n",
        "  loss = model.history.history['loss']\n",
        "  accuracy = model.history.history['accuracy']\n",
        "  val_loss = model.history.history['val_loss']\n",
        "  val_accuracy = model.history.history['val_accuracy']\n",
        "\n",
        "  plt.figure(figsize=(7,7))\n",
        "  plt.plot(np.arange(1,len(loss)+1),loss,label=\"Loss\")\n",
        "  plt.plot(np.arange(1,len(val_loss)+1),val_loss,label=\"Validation Loss\")\n",
        "  plt.xlabel(\"Epochs\")\n",
        "  plt.ylabel(\"Loss\")\n",
        "  plt.title(\"Loss Vs Val Loss per Epoch\")\n",
        "  plt.legend()\n",
        "  plt.show()\n",
        "\n",
        "  plt.figure(figsize=(7,7))\n",
        "  plt.plot(np.arange(1,len(accuracy)+1),accuracy,label=\"Accuracy\")\n",
        "  plt.plot(np.arange(1,len(val_accuracy)+1),val_accuracy,label=\"Validation Accuracy\")\n",
        "  plt.xlabel(\"Epochs\")\n",
        "  plt.ylabel(\"Accuracy\")\n",
        "  plt.title(\"Accuracy vs Val Accuracy per Epoch\")\n",
        "  plt.legend()\n",
        "  plt.show()\n",
        "\n",
        "  print(PlotPerformance.__name__,' Executed!\\n')"
      ],
      "execution_count": 0,
      "outputs": []
    },
    {
      "cell_type": "markdown",
      "metadata": {
        "id": "73YBnvrhZwNA",
        "colab_type": "text"
      },
      "source": [
        "#**15.   Function - Call to Base Model**\n",
        "\n",
        "\n",
        "\n",
        "---"
      ]
    },
    {
      "cell_type": "code",
      "metadata": {
        "id": "wYcOENDdv03d",
        "colab_type": "code",
        "colab": {}
      },
      "source": [
        "# Run the Base Model\n",
        "def BaseModel(path_train, path_val, color_mode, batch_size, channel, height, width):\n",
        "\n",
        "  train_generator, val_generator = ImageDataGenProcess(path_train, path_val, color_mode, batch_size, height, width)\n",
        "\n",
        "  model = BaseModelDefinition(height, width, channel)\n",
        "\n",
        "  len_train_dataset=len(train_list_label_file_names)\n",
        "  len_val_dataset=len(val_list_label_file_names)\n",
        "  model = CompileFit(model, train_generator, val_generator, batch_size, len_train_dataset, len_val_dataset)\n",
        "\n",
        "  print(BaseModel.__name__,' Executed!\\n')\n",
        "  return model\n",
        "  "
      ],
      "execution_count": 0,
      "outputs": []
    },
    {
      "cell_type": "markdown",
      "metadata": {
        "id": "Mp21SvIVZ5F_",
        "colab_type": "text"
      },
      "source": [
        "#**16.   Function - Main Method - Call to Sub Functions**\n",
        "\n",
        "\n",
        "\n",
        "---"
      ]
    },
    {
      "cell_type": "code",
      "metadata": {
        "id": "C_qtTcDkt2f3",
        "colab_type": "code",
        "outputId": "c2cd86a7-7e8a-4e51-c206-a8fb73fea00f",
        "colab": {
          "base_uri": "https://localhost:8080/",
          "height": 1000
        }
      },
      "source": [
        "# Main Function\n",
        "def main(training_path ='', validation_path ='', color_mode = '', batch_size=0, \n",
        "         channel=0, height=0, width=0, model_save_path=''):\n",
        "    \n",
        "    result = DataPreprocessing()\n",
        "    path_train_nir = result[0]\n",
        "    path_val_nir = result[1]\n",
        "    path_train_rgb = result[2]\n",
        "    path_val_rgb = result[3]\n",
        "    path_test_nir = result[4]\n",
        "    path_test_rgb = result[5]  \n",
        "\n",
        "    BaseModelInputType=2 # 1: Masked RGB Input Images # 2: Maked NIR Input Images\n",
        "    \n",
        "    if BaseModelInputType==1:\n",
        "      # Base Model Input Parameters with Masked RGB Images\n",
        "      if model_ip_type:\n",
        "        model_ip_type.pop()\n",
        "        model_ip_type.append('rgb')\n",
        "      else:\n",
        "        model_ip_type.append('rgb')\n",
        "      training_path = path_train_rgb\n",
        "      validation_path = path_val_rgb\n",
        "      color_mode = \"rgb\"\n",
        "      batch_size = 80\n",
        "      channel = 3\n",
        "      height = 150\n",
        "      width = 150\n",
        "      model_save_path =  \"base_agriculture_vision_rgb_masked.h5\"\n",
        "    elif BaseModelInputType==2:\n",
        "      # Base Model Input Parameters with Masked NIR Images\n",
        "      if model_ip_type:\n",
        "        model_ip_type.pop()\n",
        "        model_ip_type.append('nir')\n",
        "      else:\n",
        "        model_ip_type.append('nir')\n",
        "      training_path = path_train_nir\n",
        "      validation_path = path_val_nir\n",
        "      color_mode = \"grayscale\"\n",
        "      batch_size = 80\n",
        "      channel = 1\n",
        "      height = 150\n",
        "      width = 150\n",
        "      model_save_path =  \"base_agriculture_vision_nir_masked.h5\"\n",
        "    \n",
        "    # Train the Base Model\n",
        "    print(training_path)\n",
        "    print(validation_path)\n",
        "    print(color_mode)\n",
        "    print(batch_size)\n",
        "    print(channel)\n",
        "    print(height)\n",
        "    print(width)\n",
        "    print(model_save_path)\n",
        "    model = BaseModel(training_path, validation_path, color_mode, batch_size, channel, height, width)\n",
        "    model.save(model_save_path)\n",
        "\n",
        "    # Plot the model performance\n",
        "    PlotPerformance(model)\n",
        "\n",
        "    # Predict test images\n",
        "    #PredictTest(model, path_test_nir, path_test_rgb, height)\n",
        "\n",
        "if __name__ == '__main__':\n",
        "    main()"
      ],
      "execution_count": 0,
      "outputs": [
        {
          "output_type": "stream",
          "text": [
            "/content/Agriculture-Vision/train/images/masked_images_nir\n",
            "/content/Agriculture-Vision/val/images/masked_images_nir\n",
            "grayscale\n",
            "80\n",
            "1\n",
            "150\n",
            "150\n",
            "base_agriculture_vision_nir_masked.h5\n",
            "Found 12901 images belonging to 6 classes.\n",
            "Found 4431 images belonging to 6 classes.\n",
            "ImageDataGenProcess  Executed!\n",
            "\n",
            "Model: \"sequential_4\"\n",
            "_________________________________________________________________\n",
            "Layer (type)                 Output Shape              Param #   \n",
            "=================================================================\n",
            "conv2d_8 (Conv2D)            (None, 148, 148, 64)      640       \n",
            "_________________________________________________________________\n",
            "max_pooling2d_8 (MaxPooling2 (None, 74, 74, 64)        0         \n",
            "_________________________________________________________________\n",
            "conv2d_9 (Conv2D)            (None, 72, 72, 64)        36928     \n",
            "_________________________________________________________________\n",
            "max_pooling2d_9 (MaxPooling2 (None, 36, 36, 64)        0         \n",
            "_________________________________________________________________\n",
            "flatten_4 (Flatten)          (None, 82944)             0         \n",
            "_________________________________________________________________\n",
            "dense_12 (Dense)             (None, 512)               42467840  \n",
            "_________________________________________________________________\n",
            "dense_13 (Dense)             (None, 256)               131328    \n",
            "_________________________________________________________________\n",
            "dense_14 (Dense)             (None, 6)                 1542      \n",
            "=================================================================\n",
            "Total params: 42,638,278\n",
            "Trainable params: 42,638,278\n",
            "Non-trainable params: 0\n",
            "_________________________________________________________________\n",
            "BaseModelDefinition  Executed!\n",
            "\n",
            "WARNING:tensorflow:`write_grads` will be ignored in TensorFlow 2.0 for the `TensorBoard` Callback.\n",
            "WARNING:tensorflow:`batch_size` is no longer needed in the `TensorBoard` Callback and will be ignored in TensorFlow 2.0.\n",
            "Epoch 1/75\n",
            "162/162 [==============================] - 75s 462ms/step - loss: 1.1218 - accuracy: 0.6424 - val_loss: 0.9763 - val_accuracy: 0.7023\n",
            "Epoch 2/75\n",
            "162/162 [==============================] - 55s 341ms/step - loss: 1.0192 - accuracy: 0.6577 - val_loss: 0.9087 - val_accuracy: 0.7053\n",
            "Epoch 3/75\n",
            "162/162 [==============================] - 54s 332ms/step - loss: 0.9547 - accuracy: 0.6702 - val_loss: 0.8577 - val_accuracy: 0.7055\n",
            "Epoch 4/75\n",
            "162/162 [==============================] - 54s 332ms/step - loss: 0.9127 - accuracy: 0.6833 - val_loss: 0.8168 - val_accuracy: 0.7071\n",
            "Epoch 5/75\n",
            "162/162 [==============================] - 53s 329ms/step - loss: 0.8685 - accuracy: 0.6944 - val_loss: 0.7834 - val_accuracy: 0.7156\n",
            "Epoch 6/75\n",
            "162/162 [==============================] - 53s 326ms/step - loss: 0.8327 - accuracy: 0.7089 - val_loss: 0.7747 - val_accuracy: 0.7235\n",
            "Epoch 7/75\n",
            "162/162 [==============================] - 52s 322ms/step - loss: 0.8054 - accuracy: 0.7184 - val_loss: 0.7597 - val_accuracy: 0.7350\n",
            "Epoch 8/75\n",
            "162/162 [==============================] - 53s 325ms/step - loss: 0.7801 - accuracy: 0.7298 - val_loss: 0.7277 - val_accuracy: 0.7436\n",
            "Epoch 9/75\n",
            "162/162 [==============================] - 53s 325ms/step - loss: 0.7519 - accuracy: 0.7423 - val_loss: 0.7457 - val_accuracy: 0.7355\n",
            "Epoch 10/75\n",
            "162/162 [==============================] - 53s 326ms/step - loss: 0.7197 - accuracy: 0.7536 - val_loss: 0.7310 - val_accuracy: 0.7326\n",
            "Epoch 11/75\n",
            "162/162 [==============================] - 53s 327ms/step - loss: 0.6954 - accuracy: 0.7632 - val_loss: 0.6895 - val_accuracy: 0.7513\n",
            "Epoch 12/75\n",
            "162/162 [==============================] - 53s 329ms/step - loss: 0.6651 - accuracy: 0.7749 - val_loss: 0.7105 - val_accuracy: 0.7565\n",
            "Epoch 13/75\n",
            "162/162 [==============================] - 53s 325ms/step - loss: 0.6405 - accuracy: 0.7844 - val_loss: 0.7103 - val_accuracy: 0.7457\n",
            "Epoch 14/75\n",
            "162/162 [==============================] - 53s 327ms/step - loss: 0.6205 - accuracy: 0.8005 - val_loss: 0.7487 - val_accuracy: 0.7499\n",
            "Epoch 15/75\n",
            "162/162 [==============================] - 53s 326ms/step - loss: 0.5839 - accuracy: 0.8102 - val_loss: 0.6903 - val_accuracy: 0.7678\n",
            "Epoch 16/75\n",
            "162/162 [==============================] - 53s 325ms/step - loss: 0.5568 - accuracy: 0.8175 - val_loss: 0.6776 - val_accuracy: 0.7712\n",
            "Epoch 17/75\n",
            "162/162 [==============================] - 53s 326ms/step - loss: 0.5333 - accuracy: 0.8294 - val_loss: 0.7783 - val_accuracy: 0.7341\n",
            "Epoch 18/75\n",
            "162/162 [==============================] - 53s 328ms/step - loss: 0.5047 - accuracy: 0.8397 - val_loss: 0.6630 - val_accuracy: 0.7827\n",
            "Epoch 19/75\n",
            "162/162 [==============================] - 53s 326ms/step - loss: 0.4781 - accuracy: 0.8497 - val_loss: 0.7047 - val_accuracy: 0.7777\n",
            "Epoch 20/75\n",
            "162/162 [==============================] - 53s 327ms/step - loss: 0.4615 - accuracy: 0.8559 - val_loss: 0.7338 - val_accuracy: 0.7504\n",
            "Epoch 21/75\n",
            "162/162 [==============================] - 53s 326ms/step - loss: 0.4319 - accuracy: 0.8663 - val_loss: 0.7045 - val_accuracy: 0.7721\n",
            "Epoch 22/75\n",
            "162/162 [==============================] - 53s 326ms/step - loss: 0.4135 - accuracy: 0.8723 - val_loss: 0.7004 - val_accuracy: 0.7741\n",
            "Epoch 23/75\n",
            "162/162 [==============================] - 53s 329ms/step - loss: 0.3982 - accuracy: 0.8792 - val_loss: 0.6916 - val_accuracy: 0.7712\n",
            "Epoch 24/75\n",
            "162/162 [==============================] - 53s 328ms/step - loss: 0.3656 - accuracy: 0.8892 - val_loss: 0.6960 - val_accuracy: 0.7779\n",
            "Epoch 25/75\n",
            "162/162 [==============================] - 53s 328ms/step - loss: 0.3502 - accuracy: 0.8918 - val_loss: 0.7613 - val_accuracy: 0.7536\n",
            "Epoch 26/75\n",
            "162/162 [==============================] - 53s 328ms/step - loss: 0.3317 - accuracy: 0.9011 - val_loss: 0.7403 - val_accuracy: 0.7651\n",
            "Epoch 27/75\n",
            "162/162 [==============================] - 53s 328ms/step - loss: 0.3128 - accuracy: 0.9081 - val_loss: 0.7047 - val_accuracy: 0.7784\n",
            "Epoch 28/75\n",
            "162/162 [==============================] - 53s 328ms/step - loss: 0.2936 - accuracy: 0.9145 - val_loss: 0.7827 - val_accuracy: 0.7682\n",
            "Epoch 00028: early stopping\n",
            "CompileFit  Executed!\n",
            "\n",
            "BaseModel  Executed!\n",
            "\n"
          ],
          "name": "stdout"
        },
        {
          "output_type": "display_data",
          "data": {
            "image/png": "[encoded data removed]",
            "text/plain": [
              "<Figure size 504x504 with 1 Axes>"
            ]
          },
          "metadata": {
            "tags": [],
            "needs_background": "light"
          }
        },
        {
          "output_type": "display_data",
          "data": {
            "image/png": "[encoded data removed]",
            "text/plain": [
              "<Figure size 504x504 with 1 Axes>"
            ]
          },
          "metadata": {
            "tags": [],
            "needs_background": "light"
          }
        },
        {
          "output_type": "stream",
          "text": [
            "PlotPerformance  Executed!\n",
            "\n"
          ],
          "name": "stdout"
        }
      ]
    },
    {
      "cell_type": "markdown",
      "metadata": {
        "id": "1LRpvlLhaFHV",
        "colab_type": "text"
      },
      "source": [
        "#**17.   Predict Images**\n",
        "\n",
        "\n",
        "\n",
        "---"
      ]
    },
    {
      "cell_type": "code",
      "metadata": {
        "id": "2WQ9k9NsQnve",
        "colab_type": "code",
        "outputId": "49dd8c48-dcf9-46a7-cd98-eb10acbd3cac",
        "colab": {
          "base_uri": "https://localhost:8080/",
          "height": 810
        }
      },
      "source": [
        "# Predict Test Images\n",
        "import random\n",
        "\n",
        "# Select Predict_Image_Type=1 for NIR Images\n",
        "# Select Predict_Image_Type=2 for RGB Images\n",
        "Predict_Image_Type=1\n",
        "\n",
        "\n",
        "val=''\n",
        "if Predict_Image_Type==1:\n",
        "  val='nir'\n",
        "elif Predict_Image_Type==2:\n",
        "  val='rgb'\n",
        "\n",
        "contents=os.listdir(root)\n",
        "model_save_path=''\n",
        "for filen in contents:\n",
        "  if filen.endswith('.h5') and val in filen:\n",
        "    model_save_path=filen\n",
        "\n",
        "model = load_model(model_save_path)\n",
        "\n",
        "# check the input format\n",
        "print(model.input_shape)\n",
        "dims = model.input_shape[1:3] # -> (height, width)\n",
        "print(dims)\n",
        "\n",
        "model.compile(loss='categorical_crossentropy',\n",
        "              optimizer=tf.keras.optimizers.Adamax(learning_rate=0.0001, beta_1=0.9, beta_2=0.999),\n",
        "              metrics=['accuracy'])\n",
        "\n",
        "im_dir = test_images_dir + 'masked_images_' + val\n",
        "filename_lst=os.listdir(im_dir)\n",
        "indexes = random.sample(range(0,len(filename_lst)-1), 3)\n",
        "for i,ind in enumerate(indexes):\n",
        "  ims_path = os.path.join(im_dir,filename_lst[ind])\n",
        "  if val!='rgb':\n",
        "    ims = image.load_img(ims_path, color_mode='grayscale', grayscale=True,target_size=dims)\n",
        "  else:\n",
        "    ims = image.load_img(ims_path, target_size=dims)\n",
        "  display(ims)\n",
        "  print(type(ims))\n",
        "  \n",
        "  doc = image.img_to_array(ims) # -> numpy array\n",
        "  print(type(doc), doc.shape)\n",
        "\n",
        "  doc = np.expand_dims(doc, axis=0)\n",
        "  print(type(doc), doc.shape)\n",
        "\n",
        "  predictions = model.predict(doc)\n",
        "\n",
        "  predicted_class_indices=np.argmax(predictions,axis=1)+1\n",
        "  print('Class: '+str(predicted_class_indices[0])+' '+'['+ref[predicted_class_indices[0]]+']\\n')\n",
        "\n",
        "\n"
      ],
      "execution_count": 0,
      "outputs": [
        {
          "output_type": "stream",
          "text": [
            "(None, 150, 150, 1)\n",
            "(150, 150)\n"
          ],
          "name": "stdout"
        },
        {
          "output_type": "stream",
          "text": [
            "/usr/local/lib/python3.6/dist-packages/keras_preprocessing/image/utils.py:104: UserWarning: grayscale is deprecated. Please use color_mode = \"grayscale\"\n",
            "  warnings.warn('grayscale is deprecated. Please use '\n"
          ],
          "name": "stderr"
        },
        {
          "output_type": "display_data",
          "data": {
            "image/png": "[encoded data removed]",
            "text/plain": [
              "<PIL.Image.Image image mode=L size=150x150 at 0x7F20C9F432B0>"
            ]
          },
          "metadata": {
            "tags": []
          }
        },
        {
          "output_type": "stream",
          "text": [
            "<class 'PIL.Image.Image'>\n",
            "<class 'numpy.ndarray'> (150, 150, 1)\n",
            "<class 'numpy.ndarray'> (1, 150, 150, 1)\n",
            "Class: 5 [waterway]\n",
            "\n"
          ],
          "name": "stdout"
        },
        {
          "output_type": "display_data",
          "data": {
            "image/png": "[encoded data removed]",
            "text/plain": [
              "<PIL.Image.Image image mode=L size=150x150 at 0x7F2314C33EF0>"
            ]
          },
          "metadata": {
            "tags": []
          }
        },
        {
          "output_type": "stream",
          "text": [
            "<class 'PIL.Image.Image'>\n",
            "<class 'numpy.ndarray'> (150, 150, 1)\n",
            "<class 'numpy.ndarray'> (1, 150, 150, 1)\n",
            "Class: 6 [weed_cluster]\n",
            "\n"
          ],
          "name": "stdout"
        },
        {
          "output_type": "display_data",
          "data": {
            "image/png": "[encoded data removed]",
            "text/plain": [
              "<PIL.Image.Image image mode=L size=150x150 at 0x7F237C3E7CF8>"
            ]
          },
          "metadata": {
            "tags": []
          }
        },
        {
          "output_type": "stream",
          "text": [
            "<class 'PIL.Image.Image'>\n",
            "<class 'numpy.ndarray'> (150, 150, 1)\n",
            "<class 'numpy.ndarray'> (1, 150, 150, 1)\n",
            "Class: 6 [weed_cluster]\n",
            "\n"
          ],
          "name": "stdout"
        }
      ]
    },
    {
      "cell_type": "markdown",
      "metadata": {
        "id": "k3iZ4E72aSbc",
        "colab_type": "text"
      },
      "source": [
        "#**18.   Tensorboard - To Assess Model Performance**\n",
        "\n",
        "\n",
        "\n",
        "---"
      ]
    },
    {
      "cell_type": "code",
      "metadata": {
        "id": "v7rq7BwAySXJ",
        "colab_type": "code",
        "colab": {}
      },
      "source": [
        "%tensorboard --logdir nir_logs\n",
        "#%tensorboard --logdir rgb_logs\n"
      ],
      "execution_count": 0,
      "outputs": []
    },
    {
      "cell_type": "markdown",
      "metadata": {
        "id": "T55xy5r1afts",
        "colab_type": "text"
      },
      "source": [
        "#**19.   Download ZIP to Google Drive (Model and Model Weights)**\n",
        "\n",
        "\n",
        "\n",
        "---"
      ]
    },
    {
      "cell_type": "code",
      "metadata": {
        "id": "FWnoVihF6BcM",
        "colab_type": "code",
        "outputId": "2a1e3d21-6dc5-49dc-a447-d0e1db9d2403",
        "colab": {
          "base_uri": "https://localhost:8080/",
          "height": 629
        }
      },
      "source": [
        "# Download Model and Model Weigths to Google Drive\n",
        "\n",
        "\n",
        "# Select Download_Model=1 where input is NIR Images\n",
        "# Select Download_Model=2 where input is RGB Images\n",
        "Download_Model=1\n",
        "\n",
        "\n",
        "val=''\n",
        "if Download_Model==1:\n",
        "  val='nir'\n",
        "elif Download_Model==2:\n",
        "  val='rgb'\n",
        "\n",
        "\n",
        "contents=os.listdir(root)\n",
        "model_save_path=''\n",
        "for filen in contents:\n",
        "  if filen.endswith('.h5') and val in filen:\n",
        "    model_save_path=filen\n",
        "\n",
        "sv=val+'_base_model_details'\n",
        "svdir='/content/'+sv\n",
        "\n",
        "shutil.copytree(\"/content/\"+log_folder[0], svdir)\n",
        "shutil.copyfile(\"/content/\"+model_save_path, svdir+'/'+model_save_path)\n",
        "\n",
        "if val=='nir':\n",
        "  #For the folder you have to zip it first and can only download later on\n",
        "  !zip -r nir_base_model_details.zip /content/nir_logs\n",
        "  #Download zip file to Google Drive\n",
        "  drive.mount('/content/gdrive',force_remount=True)\n",
        "  !cp nir_base_model_details.zip '/content/gdrive/My Drive/Capstone/'\n",
        "elif val=='rgb':\n",
        "  #For the folder you have to zip it first and can only download later on\n",
        "  !zip -r rgb_base_model_details.zip /content/rgb_logs\n",
        "  #Download zip file to Google Drive\n",
        "  drive.mount('/content/gdrive',force_remount=True)\n",
        "  !cp rgb_base_model_details.zip '/content/gdrive/My Drive/Capstone/'\n",
        "!ls -lt '/content/gdrive/My Drive/Capstone/'"
      ],
      "execution_count": 0,
      "outputs": [
        {
          "output_type": "stream",
          "text": [
            "  adding: content/nir_logs/ (stored 0%)\n",
            "  adding: content/nir_logs/20200430-201823/ (stored 0%)\n",
            "  adding: content/nir_logs/20200430-201823/validation/ (stored 0%)\n",
            "  adding: content/nir_logs/20200430-201823/validation/events.out.tfevents.1588277978.2c022faea8f9.123.2245.v2 (deflated 62%)\n",
            "  adding: content/nir_logs/20200430-201823/train/ (stored 0%)\n",
            "  adding: content/nir_logs/20200430-201823/train/events.out.tfevents.1588277911.2c022faea8f9.profile-empty (deflated 5%)\n",
            "  adding: content/nir_logs/20200430-201823/train/events.out.tfevents.1588277904.2c022faea8f9.123.205.v2 (deflated 0%)\n",
            "  adding: content/nir_logs/20200430-201823/train/plugins/ (stored 0%)\n",
            "  adding: content/nir_logs/20200430-201823/train/plugins/profile/ (stored 0%)\n",
            "  adding: content/nir_logs/20200430-201823/train/plugins/profile/2020_04_30_20_18_31/ (stored 0%)\n",
            "  adding: content/nir_logs/20200430-201823/train/plugins/profile/2020_04_30_20_18_31/2c022faea8f9.overview_page.pb (deflated 56%)\n",
            "  adding: content/nir_logs/20200430-201823/train/plugins/profile/2020_04_30_20_18_31/2c022faea8f9.input_pipeline.pb (deflated 58%)\n",
            "  adding: content/nir_logs/20200430-201823/train/plugins/profile/2020_04_30_20_18_31/2c022faea8f9.kernel_stats.pb (deflated 95%)\n",
            "  adding: content/nir_logs/20200430-201823/train/plugins/profile/2020_04_30_20_18_31/2c022faea8f9.trace.json.gz (deflated 2%)\n",
            "  adding: content/nir_logs/20200430-201823/train/plugins/profile/2020_04_30_20_18_31/2c022faea8f9.tensorflow_stats.pb (deflated 72%)\n",
            "  adding: content/nir_logs/20200501-002050/ (stored 0%)\n",
            "  adding: content/nir_logs/20200501-002050/validation/ (stored 0%)\n",
            "  adding: content/nir_logs/20200501-002050/validation/events.out.tfevents.1588292521.2c022faea8f9.123.130376.v2 (deflated 62%)\n",
            "  adding: content/nir_logs/20200501-002050/train/ (stored 0%)\n",
            "  adding: content/nir_logs/20200501-002050/train/plugins/ (stored 0%)\n",
            "  adding: content/nir_logs/20200501-002050/train/plugins/profile/ (stored 0%)\n",
            "  adding: content/nir_logs/20200501-002050/train/plugins/profile/2020_05_01_00_20_53/ (stored 0%)\n",
            "  adding: content/nir_logs/20200501-002050/train/plugins/profile/2020_05_01_00_20_53/2c022faea8f9.overview_page.pb (deflated 57%)\n",
            "  adding: content/nir_logs/20200501-002050/train/plugins/profile/2020_05_01_00_20_53/2c022faea8f9.input_pipeline.pb (deflated 58%)\n",
            "  adding: content/nir_logs/20200501-002050/train/plugins/profile/2020_05_01_00_20_53/2c022faea8f9.kernel_stats.pb (deflated 95%)\n",
            "  adding: content/nir_logs/20200501-002050/train/plugins/profile/2020_05_01_00_20_53/2c022faea8f9.trace.json.gz (deflated 2%)\n",
            "  adding: content/nir_logs/20200501-002050/train/plugins/profile/2020_05_01_00_20_53/2c022faea8f9.tensorflow_stats.pb (deflated 73%)\n",
            "  adding: content/nir_logs/20200501-002050/train/events.out.tfevents.1588292453.2c022faea8f9.profile-empty (deflated 5%)\n",
            "  adding: content/nir_logs/20200501-002050/train/events.out.tfevents.1588292451.2c022faea8f9.123.128336.v2 (deflated 0%)\n",
            "Mounted at /content/gdrive\n",
            "total 5740984\n",
            "-rw------- 1 root root 1988497231 May  1 01:03  nir_base_model_details.zip\n",
            "-rw------- 1 root root 1988497231 May  1 00:51  nir_model_details.zip\n",
            "-rw------- 1 root root 1901763599 May  1 00:15  rgb_base_model_details.zip\n",
            "drwx------ 2 root root       4096 Apr 30 23:57 'BM NIR AMAX WMD'\n",
            "drwx------ 2 root root       4096 Apr 30 23:57 'BM RGB AMAX WMD'\n"
          ],
          "name": "stdout"
        }
      ]
    },
    {
      "cell_type": "markdown",
      "metadata": {
        "id": "GEoNMvYYazI9",
        "colab_type": "text"
      },
      "source": [
        "#**20.   Delete Section - Delete Directories and Files**\n",
        "\n",
        "\n",
        "\n",
        "---"
      ]
    },
    {
      "cell_type": "code",
      "metadata": {
        "id": "nb4Ip2Ta1MiJ",
        "colab_type": "code",
        "outputId": "0edef8c4-c6d8-4941-9d9c-6622dfb3fbee",
        "colab": {
          "base_uri": "https://localhost:8080/",
          "height": 34
        }
      },
      "source": [
        "#Delete Training Masked Nir Image Directory\n",
        "train_dir_path = train_images_dir + 'masked_images_nir'\n",
        "try:\n",
        "    shutil.rmtree(train_dir_path)\n",
        "except OSError as e:\n",
        "    print(\"Error: %s : %s\" % (train_dir_path, e.strerror))\n"
      ],
      "execution_count": 0,
      "outputs": [
        {
          "output_type": "stream",
          "text": [
            "Error: /content/Agriculture-Vision/val/images/masked_images_nir : No such file or directory\n"
          ],
          "name": "stdout"
        }
      ]
    },
    {
      "cell_type": "code",
      "metadata": {
        "id": "1pFplJT40Nke",
        "colab_type": "code",
        "colab": {}
      },
      "source": [
        "#Delete Validation Masked Nir Image Directory\n",
        "val_dir_path = val_images_dir + 'masked_images_nir'\n",
        "try:\n",
        "    shutil.rmtree(val_dir_path)\n",
        "except OSError as e:\n",
        "    print(\"Error: %s : %s\" % (val_dir_path, e.strerror))"
      ],
      "execution_count": 0,
      "outputs": []
    },
    {
      "cell_type": "code",
      "metadata": {
        "id": "vqUYjQjzy6V9",
        "colab_type": "code",
        "outputId": "76d88ca3-2d92-4740-a481-d1ea6b428d5c",
        "colab": {
          "base_uri": "https://localhost:8080/",
          "height": 51
        }
      },
      "source": [
        "#Delete Training Masked Rgb Image Directory\n",
        "train_dir_path = train_images_dir + 'masked_images_rgb'\n",
        "try:\n",
        "    shutil.rmtree(train_dir_path)\n",
        "except OSError as e:\n",
        "    print(\"Error: %s : %s\" % (train_dir_path, e.strerror))\n"
      ],
      "execution_count": 0,
      "outputs": [
        {
          "output_type": "stream",
          "text": [
            "Error: /content/Agriculture-Vision/train/images/masked_images_rgb : No such file or directory\n",
            "Error: /content/Agriculture-Vision/val/images/masked_images_rgb : No such file or directory\n"
          ],
          "name": "stdout"
        }
      ]
    },
    {
      "cell_type": "code",
      "metadata": {
        "id": "Pc4ciYNf08b6",
        "colab_type": "code",
        "colab": {}
      },
      "source": [
        "#Delete Validation Masked Rgb Image Directory\n",
        "val_dir_path = val_images_dir + 'masked_images_rgb'\n",
        "try:\n",
        "    shutil.rmtree(val_dir_path)\n",
        "except OSError as e:\n",
        "    print(\"Error: %s : %s\" % (val_dir_path, e.strerror))"
      ],
      "execution_count": 0,
      "outputs": []
    },
    {
      "cell_type": "code",
      "metadata": {
        "id": "Q7roqNPXZ-Vr",
        "colab_type": "code",
        "outputId": "57180f2a-a4e2-4b02-97f9-243a388f6069",
        "colab": {
          "base_uri": "https://localhost:8080/",
          "height": 34
        }
      },
      "source": [
        "#Delete Testing Masked Nir Image Directory\n",
        "test_nir_path_del= test_images_dir + 'masked_images_nir'\n",
        "try:\n",
        "    shutil.rmtree(test_nir_path_del)\n",
        "except OSError as e:\n",
        "    print(\"Error: %s : %s\" % (test_nir_path_del, e.strerror))"
      ],
      "execution_count": 0,
      "outputs": [
        {
          "output_type": "stream",
          "text": [
            "Error: /content/Agriculture-Vision/test/images/masked_images_nir : No such file or directory\n"
          ],
          "name": "stdout"
        }
      ]
    },
    {
      "cell_type": "code",
      "metadata": {
        "id": "M_eDQPKh1Tlf",
        "colab_type": "code",
        "colab": {}
      },
      "source": [
        "#Delete Testing Masked RGB Image Directory\n",
        "test_rgb_path_del=test_images_dir + 'masked_images_rgb'\n",
        "try:\n",
        "    shutil.rmtree(test_rgb_path_del)\n",
        "except OSError as e:\n",
        "    print(\"Error: %s : %s\" % (test_rgb_path_del, e.strerror))"
      ],
      "execution_count": 0,
      "outputs": []
    },
    {
      "cell_type": "code",
      "metadata": {
        "id": "q_jPjmEva_1D",
        "colab_type": "code",
        "colab": {}
      },
      "source": [
        "#Delete Generated NIR Model Log Directory\n",
        "try:\n",
        "    shutil.rmtree(\"/content/nir_logs\")\n",
        "except OSError as e:\n",
        "    print(\"Error: %s : %s\" % (\"/content/nir_logs\", e.strerror))"
      ],
      "execution_count": 0,
      "outputs": []
    },
    {
      "cell_type": "code",
      "metadata": {
        "id": "ZeCTG-UzbJ2M",
        "colab_type": "code",
        "colab": {}
      },
      "source": [
        "#Delete Generated RGB Model Log Directory\n",
        "try:\n",
        "    shutil.rmtree(\"/content/rgb_logs\")\n",
        "except OSError as e:\n",
        "    print(\"Error: %s : %s\" % (\"/content/rgb_logs\", e.strerror))"
      ],
      "execution_count": 0,
      "outputs": []
    },
    {
      "cell_type": "code",
      "metadata": {
        "id": "1juJ4Kwehvic",
        "colab_type": "code",
        "colab": {}
      },
      "source": [
        "#Delete Generated NIR Model Details Directory\n",
        "try:\n",
        "    shutil.rmtree(\"/content/nir_base_model_details\")\n",
        "except OSError as e:\n",
        "    print(\"Error: %s : %s\" % (\"/content/nir__base_model_details\", e.strerror))"
      ],
      "execution_count": 0,
      "outputs": []
    },
    {
      "cell_type": "code",
      "metadata": {
        "id": "gseHqFb6OuyF",
        "colab_type": "code",
        "colab": {}
      },
      "source": [
        "#Delete Generated RGB Model Details Directory\n",
        "try:\n",
        "    shutil.rmtree(\"/content/rgb_base_model_details\")\n",
        "except OSError as e:\n",
        "    print(\"Error: %s : %s\" % (\"/content/rgb_base_model_details\", e.strerror))"
      ],
      "execution_count": 0,
      "outputs": []
    }
  ]
}